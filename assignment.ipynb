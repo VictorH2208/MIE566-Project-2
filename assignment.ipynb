{
 "cells": [
  {
   "cell_type": "code",
   "execution_count": null,
   "metadata": {},
   "outputs": [],
   "source": [
    "import pymc as pm\n",
    "import numpy as np\n",
    "import arviz as az\n",
    "import matplotlib.pyplot as plt"
   ]
  },
  {
   "cell_type": "code",
   "execution_count": null,
   "metadata": {},
   "outputs": [],
   "source": [
    "model = pm.Model()\n",
    "\n",
    "with model:\n",
    "\n",
    "    good_models_for_a = pm.Bernoulli('good_models_for_a', p=0.7, shape=1)\n",
    "\n",
    "    # Priors for unknown model parameters\n",
    "    S = pm.Gamma(\"S\", alpha=1, beta=2/3) #alpha=shape, beta = rate = 1/scale\n",
    "    \n",
    "    mu_model_improvement = pm.math.where(good_models_for_a, 7.5, 2.5)\n",
    "    sigma_model_improvement = pm.math.where(good_models_for_a, 1, 0.5)\n",
    "    a_model_improvement = pm.Normal('model_improvement', mu=mu_model_improvement, sigma=sigma_model_improvement, shape=1)\n",
    "\n",
    "    num_papers = 10\n",
    "    p_paper_useful = 0.1\n",
    "    b_evidence_amount = pm.Binomial('b_evidence_amount', n=num_papers, p=p_paper_useful, shape=1)\n",
    "    b_evidence_level = pm.math.where(b_evidence_amount > 3, \n",
    "                                     pm.math.where(b_evidence_amount > 6, 2, 1), \n",
    "                                     0)\n",
    "    \n",
    "    b_final_score = pm.Deterministic('b_final_score', b_evidence_level)\n",
    "    a_final_score = pm.Deterministic('a_final_score', \n",
    "                                     a_model_improvement)\n",
    "    # observations\n",
    "    # result = pm.Normal(\"result\",mu=S,tau=4/(S**2+4), observed=3.5)\n",
    "\n",
    "    # #treatment =True\n",
    "    # Y= pm.math.where(S>3,S,0)\n",
    "\n",
    "    # X= 0\n",
    "\n",
    "    # Uy = pm.Deterministic('Uy',(1-pm.math.exp(-Y))/(1-np.exp(-6)))\n",
    "    # Ux = pm.Deterministic('Ux',(1-pm.math.exp(-X))/(1-np.exp(-1)))\n",
    "\n",
    "    #total\n",
    "    U = pm.Deterministic('U',0.2*Ux + 0.7*Uy + 0.1*Ux*Uy)"
   ]
  }
 ],
 "metadata": {
  "kernelspec": {
   "display_name": "pymc_env",
   "language": "python",
   "name": "python3"
  },
  "language_info": {
   "name": "python",
   "version": "3.11.4"
  }
 },
 "nbformat": 4,
 "nbformat_minor": 2
}
