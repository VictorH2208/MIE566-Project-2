{
 "cells": [
  {
   "cell_type": "code",
   "execution_count": null,
   "metadata": {},
   "outputs": [],
   "source": [
    "import pymc as pm\n",
    "import numpy as np\n",
    "import arviz as az\n",
    "import matplotlib.pyplot as plt"
   ]
  },
  {
   "cell_type": "code",
   "execution_count": null,
   "metadata": {},
   "outputs": [],
   "source": []
  },
  {
   "cell_type": "code",
   "execution_count": null,
   "metadata": {},
   "outputs": [],
   "source": [
    "model = pm.Model()\n",
    "\n",
    "with model:\n",
    "\n",
    "    good_models_for_a = pm.Bernoulli('good_models_for_a', p=0.7, shape=1)\n",
    "\n",
    "    # Priors for unknown model parameters\n",
    "    S = pm.Gamma(\"S\", alpha=1, beta=2/3) #alpha=shape, beta = rate = 1/scale\n",
    "\n",
    "\n",
    "    # observations\n",
    "    result = pm.Normal(\"result\",mu=S,tau=4/(S**2+4), observed=3.5)\n",
    "\n",
    "    #treatment =True\n",
    "    Y= pm.math.where(S>3,S,0)\n",
    "\n",
    "    X= 0\n",
    "\n",
    "    Uy = pm.Deterministic('Uy',(1-pm.math.exp(-Y))/(1-np.exp(-6)))\n",
    "    Ux = pm.Deterministic('Ux',(1-pm.math.exp(-X))/(1-np.exp(-1)))\n",
    "\n",
    "    #total\n",
    "    U = pm.Deterministic('U',0.2*Ux + 0.7*Uy + 0.1*Ux*Uy)"
   ]
  }
 ],
 "metadata": {
  "kernelspec": {
   "display_name": "pymc_env",
   "language": "python",
   "name": "python3"
  },
  "language_info": {
   "name": "python",
   "version": "3.11.4"
  }
 },
 "nbformat": 4,
 "nbformat_minor": 2
}
